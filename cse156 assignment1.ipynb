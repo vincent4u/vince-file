{
  "nbformat": 4,
  "nbformat_minor": 0,
  "metadata": {
    "colab": {
      "provenance": [],
      "authorship_tag": "ABX9TyPwZYso6nxRqAG/3KZWbIbZ",
      "include_colab_link": true
    },
    "kernelspec": {
      "name": "python3",
      "display_name": "Python 3"
    },
    "language_info": {
      "name": "python"
    }
  },
  "cells": [
    {
      "cell_type": "markdown",
      "metadata": {
        "id": "view-in-github",
        "colab_type": "text"
      },
      "source": [
        "<a href=\"https://colab.research.google.com/github/vincent4u/vince-file/blob/main/cse156%20assignment1.ipynb\" target=\"_parent\"><img src=\"https://colab.research.google.com/assets/colab-badge.svg\" alt=\"Open In Colab\"/></a>"
      ]
    },
    {
      "cell_type": "code",
      "execution_count": null,
      "metadata": {
        "id": "Pr_61xG_lPWW"
      },
      "outputs": [],
      "source": [
        "from datetime import date\n",
        "import datetime\n"
      ]
    },
    {
      "cell_type": "code",
      "source": [
        "x = datetime.datetime.now()\n",
        "print(x)\n",
        "\n",
        "today = date.today()\n",
        "print('Today:', today)\n"
      ],
      "metadata": {
        "colab": {
          "base_uri": "https://localhost:8080/"
        },
        "id": "S_xTkxgVlm35",
        "outputId": "93558f84-5f17-4d75-d490-e3e773b7df3f"
      },
      "execution_count": null,
      "outputs": [
        {
          "output_type": "stream",
          "name": "stdout",
          "text": [
            "2023-11-27 12:17:02.558840\n",
            "Today: 2023-11-27\n"
          ]
        }
      ]
    },
    {
      "cell_type": "markdown",
      "source": [
        "Exercise 1 (10%)\n",
        "\n",
        "Write a program that asks the user to input his/her date of birth in the format dd/mm/yyyy.\n",
        "If the input is not in the correct format or the date is invalid the program should output an\n",
        "appropriate error message. If the input is a valid date the program should calculate and\n",
        "output the user’s age. (You will need to check whether the user has had a birthday this\n",
        "year e.g. someone born on 01/11/2000 will be 21 on 15 December 2022, but someone\n",
        "born on 25/12/2000 will still be 21.) The program should additionally output a “Happy\n",
        "birthday” message if it is the user’s birthday today.\n",
        "To calculate the age you will need to obtain today’s date; to do this you need to use the\n",
        "line\n",
        "from datetime import date\n",
        "and then use date.today() to obtain a date object containing today’s date. You can\n",
        "access the day, month and year of a date d using d.day, d.month and d.year (these are\n",
        "all integer values).\n",
        "\n"
      ],
      "metadata": {
        "id": "54blQrCHukCA"
      }
    },
    {
      "cell_type": "code",
      "source": [
        "import datetime as dt\n",
        "from datetime import date\n",
        "\n",
        "#assigning today to today's date\n",
        "today = date.today()\n",
        "DT = input(\"Enter your date of birth in this format dd/mm/yyyy: \")\n",
        "\n",
        "datetime_string_format = '%d/%m/%Y'\n",
        "datetime_string_format1 = '%Y/%d/%m'\n",
        "datetime_string_format1 = '%Y/%d/%m'\n",
        "dob = dt.datetime.strptime(DT, datetime_string_format).date()\n",
        "age=dob.year-today.year\n",
        "if dob.month == today.month and dob.day == today.day:\n",
        "  print('Happy Birthday')\n",
        "else:\n",
        "  print('wait till next year')"
      ],
      "metadata": {
        "id": "RVSWWeMYuinf",
        "outputId": "9c229c44-b7c8-479c-a19e-d82a700724ff",
        "colab": {
          "base_uri": "https://localhost:8080/"
        }
      },
      "execution_count": 12,
      "outputs": [
        {
          "output_type": "stream",
          "name": "stdout",
          "text": [
            "Enter your date of birth in this format dd/mm/yyyy: 21/04/2000\n",
            "wait till next year\n"
          ]
        }
      ]
    },
    {
      "cell_type": "code",
      "source": [
        "import datetime as dt\n",
        "from datetime import date\n",
        "\n",
        "#assigning today to today's date\n",
        "\n",
        "def my_birthday():\n",
        "    today = date.today()\n",
        "    DT = input(\"Enter your date of birth in this format dd/mm/yyyy: \")\n",
        "    datetime_string_format = '%d/%m/%Y'\n",
        "    try:\n",
        "        dob = dt.datetime.strptime(DT, datetime_string_format).date()\n",
        "        if dob.day <= today.day and dob.month <= today.month:\n",
        "            age=today.year-dob.year\n",
        "            print(f'Congratulations you are', age , 'years old')\n",
        "            if dob.month == today.month and dob.day == today.day:\n",
        "                print('Happy Birthday')\n",
        "            else:\n",
        "                print('wait till next year')\n",
        "        else:\n",
        "            age=(today.year-dob.year) - 1\n",
        "            print(age)\n",
        "    except:\n",
        "           print('Please enter date in format : dd/mm/yyyy')\n",
        "\n",
        "\n",
        "my_birthday()"
      ],
      "metadata": {
        "id": "WJVBgjV0SXFG",
        "outputId": "e63cd3ca-fb14-4aa7-85ed-54cc2acc1d76",
        "colab": {
          "base_uri": "https://localhost:8080/"
        }
      },
      "execution_count": 47,
      "outputs": [
        {
          "output_type": "stream",
          "name": "stdout",
          "text": [
            "Enter your date of birth in this format dd/mm/yyyy: 05/11/2000\n",
            "22\n"
          ]
        }
      ]
    },
    {
      "cell_type": "markdown",
      "source": [
        "Exercise 2 (15%)\n",
        "\n",
        "Write a function that returns a list of the prime numbers between two positive integers\n",
        "supplied as arguments. Use this is in a program that asks the user to supply two positive\n",
        "integers, checks that the input is valid, then calls the function and outputs the numbers in\n",
        "the returned list, with 10 numbers per output line.\n",
        "If the user enters negative numbers or supplies non-numeric input the program should\n",
        "output an appropriate error message; the two numbers should be accepted in either order.\n",
        "The range should be inclusive; if the user inputs 103 and 1009 (or 1009 and 103) these\n",
        "two numbers (which are both prime) should be included in the output."
      ],
      "metadata": {
        "id": "JPsCvHnuu7dn"
      }
    },
    {
      "cell_type": "code",
      "source": [
        "list=[]\n",
        "no_1 = int(input(\"Enter your first number: \"))\n",
        "no_2=int(input(\"Enter your second number: \"))\n",
        "list.append(no_1)\n",
        "list.append(no_2)\n",
        "\n",
        "highest_value=max(list)\n",
        "smallest_value=min(list)\n",
        "list_2= [i for i in range(smallest_value,highest_value+1)]\n",
        "\n",
        "list_3=[]\n",
        "for x in range(list_2[0], list[-1]):\n",
        "  if list_2[i]%x==0:\n",
        "    list_3.append(x)\n",
        "print(list_3)"
      ],
      "metadata": {
        "id": "SpfCLuNMu_VO",
        "outputId": "e42e9fed-b68f-47d7-b209-997d45772ffb",
        "colab": {
          "base_uri": "https://localhost:8080/",
          "height": 279
        }
      },
      "execution_count": null,
      "outputs": [
        {
          "name": "stdout",
          "output_type": "stream",
          "text": [
            "Enter your first number: 9\n",
            "Enter your second number: 21\n"
          ]
        },
        {
          "output_type": "error",
          "ename": "IndexError",
          "evalue": "ignored",
          "traceback": [
            "\u001b[0;31m---------------------------------------------------------------------------\u001b[0m",
            "\u001b[0;31mIndexError\u001b[0m                                Traceback (most recent call last)",
            "\u001b[0;32m<ipython-input-5-5ac1c586e295>\u001b[0m in \u001b[0;36m<cell line: 12>\u001b[0;34m()\u001b[0m\n\u001b[1;32m     11\u001b[0m \u001b[0mlist_3\u001b[0m\u001b[0;34m=\u001b[0m\u001b[0;34m[\u001b[0m\u001b[0;34m]\u001b[0m\u001b[0;34m\u001b[0m\u001b[0;34m\u001b[0m\u001b[0m\n\u001b[1;32m     12\u001b[0m \u001b[0;32mfor\u001b[0m \u001b[0mx\u001b[0m \u001b[0;32min\u001b[0m \u001b[0mrange\u001b[0m\u001b[0;34m(\u001b[0m\u001b[0mlist_2\u001b[0m\u001b[0;34m[\u001b[0m\u001b[0;36m0\u001b[0m\u001b[0;34m]\u001b[0m\u001b[0;34m,\u001b[0m \u001b[0mlist\u001b[0m\u001b[0;34m[\u001b[0m\u001b[0;34m-\u001b[0m\u001b[0;36m1\u001b[0m\u001b[0;34m]\u001b[0m\u001b[0;34m)\u001b[0m\u001b[0;34m:\u001b[0m\u001b[0;34m\u001b[0m\u001b[0;34m\u001b[0m\u001b[0m\n\u001b[0;32m---> 13\u001b[0;31m   \u001b[0;32mif\u001b[0m \u001b[0mlist_2\u001b[0m\u001b[0;34m[\u001b[0m\u001b[0mx\u001b[0m\u001b[0;34m]\u001b[0m\u001b[0;34m%\u001b[0m\u001b[0mx\u001b[0m\u001b[0;34m==\u001b[0m\u001b[0;36m0\u001b[0m\u001b[0;34m:\u001b[0m\u001b[0;34m\u001b[0m\u001b[0;34m\u001b[0m\u001b[0m\n\u001b[0m\u001b[1;32m     14\u001b[0m     \u001b[0mlist_3\u001b[0m\u001b[0;34m.\u001b[0m\u001b[0mappend\u001b[0m\u001b[0;34m(\u001b[0m\u001b[0mx\u001b[0m\u001b[0;34m)\u001b[0m\u001b[0;34m\u001b[0m\u001b[0;34m\u001b[0m\u001b[0m\n\u001b[1;32m     15\u001b[0m \u001b[0mprint\u001b[0m\u001b[0;34m(\u001b[0m\u001b[0mlist_3\u001b[0m\u001b[0;34m)\u001b[0m\u001b[0;34m\u001b[0m\u001b[0;34m\u001b[0m\u001b[0m\n",
            "\u001b[0;31mIndexError\u001b[0m: list index out of range"
          ]
        }
      ]
    }
  ]
}