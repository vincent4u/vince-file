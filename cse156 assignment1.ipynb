{
  "nbformat": 4,
  "nbformat_minor": 0,
  "metadata": {
    "colab": {
      "provenance": [],
      "authorship_tag": "ABX9TyPY7H+jmwlR2he9/GkqBbYi",
      "include_colab_link": true
    },
    "kernelspec": {
      "name": "python3",
      "display_name": "Python 3"
    },
    "language_info": {
      "name": "python"
    }
  },
  "cells": [
    {
      "cell_type": "markdown",
      "metadata": {
        "id": "view-in-github",
        "colab_type": "text"
      },
      "source": [
        "<a href=\"https://colab.research.google.com/github/vincent4u/vince-file/blob/main/cse156%20assignment1.ipynb\" target=\"_parent\"><img src=\"https://colab.research.google.com/assets/colab-badge.svg\" alt=\"Open In Colab\"/></a>"
      ]
    },
    {
      "cell_type": "code",
      "execution_count": null,
      "metadata": {
        "id": "Pr_61xG_lPWW"
      },
      "outputs": [],
      "source": [
        "from datetime import date\n",
        "import datetime\n"
      ]
    },
    {
      "cell_type": "code",
      "source": [
        "x = datetime.datetime.now()\n",
        "print(x)\n",
        "\n",
        "today = date.today()\n",
        "print('Today:', today)\n"
      ],
      "metadata": {
        "colab": {
          "base_uri": "https://localhost:8080/"
        },
        "id": "S_xTkxgVlm35",
        "outputId": "93558f84-5f17-4d75-d490-e3e773b7df3f"
      },
      "execution_count": null,
      "outputs": [
        {
          "output_type": "stream",
          "name": "stdout",
          "text": [
            "2023-11-27 12:17:02.558840\n",
            "Today: 2023-11-27\n"
          ]
        }
      ]
    },
    {
      "cell_type": "markdown",
      "source": [
        "Exercise 1 (10%)\n",
        "\n",
        "Write a program that asks the user to input his/her date of birth in the format dd/mm/yyyy.\n",
        "If the input is not in the correct format or the date is invalid the program should output an\n",
        "appropriate error message. If the input is a valid date the program should calculate and\n",
        "output the user’s age. (You will need to check whether the user has had a birthday this\n",
        "year e.g. someone born on 01/11/2000 will be 21 on 15 December 2022, but someone\n",
        "born on 25/12/2000 will still be 21.) The program should additionally output a “Happy\n",
        "birthday” message if it is the user’s birthday today.\n",
        "To calculate the age you will need to obtain today’s date; to do this you need to use the\n",
        "line\n",
        "from datetime import date\n",
        "and then use date.today() to obtain a date object containing today’s date. You can\n",
        "access the day, month and year of a date d using d.day, d.month and d.year (these are\n",
        "all integer values).\n",
        "\n"
      ],
      "metadata": {
        "id": "54blQrCHukCA"
      }
    },
    {
      "cell_type": "code",
      "source": [
        "import datetime as dt\n",
        "from datetime import date\n",
        "\n",
        "#assigning today to today's date\n",
        "today = date.today()\n",
        "DT = input(\"Enter your date of birth in this format dd/mm/yyyy: \")\n",
        "\n",
        "datetime_string_format = '%d/%m/%Y'\n",
        "datetime_string_format1 = '%Y/%d/%m'\n",
        "datetime_string_format1 = '%Y/%d/%m'\n",
        "dob = dt.datetime.strptime(DT, datetime_string_format).date()\n",
        "age=dob.year-today.year\n",
        "if dob.month == today.month and dob.day == today.day:\n",
        "  print('Happy Birthday')\n",
        "else:\n",
        "  print('wait till next year')"
      ],
      "metadata": {
        "id": "RVSWWeMYuinf",
        "outputId": "9c229c44-b7c8-479c-a19e-d82a700724ff",
        "colab": {
          "base_uri": "https://localhost:8080/"
        }
      },
      "execution_count": null,
      "outputs": [
        {
          "output_type": "stream",
          "name": "stdout",
          "text": [
            "Enter your date of birth in this format dd/mm/yyyy: 21/04/2000\n",
            "wait till next year\n"
          ]
        }
      ]
    },
    {
      "cell_type": "code",
      "source": [
        "import datetime as dt\n",
        "from datetime import date\n",
        "\n",
        "#assigning today to today's date\n",
        "\n",
        "def my_birthday():\n",
        "    today = date.today()\n",
        "    DT = input(\"Enter your date of birth in this format dd/mm/yyyy: \")\n",
        "    datetime_string_format = '%d/%m/%Y'\n",
        "    try:\n",
        "        dob = dt.datetime.strptime(DT, datetime_string_format).date()\n",
        "        if dob.day <= today.day and dob.month <= today.month:\n",
        "            age=today.year-dob.year\n",
        "            print(f'Congratulations you are', age , 'years old')\n",
        "            if dob.month == today.month and dob.day == today.day:\n",
        "                print('Happy Birthday')\n",
        "            else:\n",
        "                print('wait till next year')\n",
        "        else:\n",
        "            age=(today.year-dob.year) - 1\n",
        "            print(age)\n",
        "    except:\n",
        "           print('Please enter date in format : dd/mm/yyyy')\n",
        "\n",
        "\n",
        "my_birthday()"
      ],
      "metadata": {
        "id": "WJVBgjV0SXFG",
        "outputId": "e63cd3ca-fb14-4aa7-85ed-54cc2acc1d76",
        "colab": {
          "base_uri": "https://localhost:8080/"
        }
      },
      "execution_count": null,
      "outputs": [
        {
          "output_type": "stream",
          "name": "stdout",
          "text": [
            "Enter your date of birth in this format dd/mm/yyyy: 05/11/2000\n",
            "22\n"
          ]
        }
      ]
    },
    {
      "cell_type": "markdown",
      "source": [
        "Exercise 2 (15%)\n",
        "\n",
        "Write a function that returns a list of the prime numbers between two positive integers\n",
        "supplied as arguments. Use this is in a program that asks the user to supply two positive\n",
        "integers, checks that the input is valid, then calls the function and outputs the numbers in\n",
        "the returned list, with 10 numbers per output line.\n",
        "If the user enters negative numbers or supplies non-numeric input the program should\n",
        "output an appropriate error message; the two numbers should be accepted in either order.\n",
        "The range should be inclusive; if the user inputs 103 and 1009 (or 1009 and 103) these\n",
        "two numbers (which are both prime) should be included in the output."
      ],
      "metadata": {
        "id": "JPsCvHnuu7dn"
      }
    },
    {
      "cell_type": "code",
      "source": [
        "list=[]\n",
        "no_1 = int(input(\"Enter your first number: \"))\n",
        "no_2=int(input(\"Enter your second number: \"))\n",
        "list.append(no_1)\n",
        "list.append(no_2)\n",
        "\n",
        "highest_value=max(list)\n",
        "smallest_value=min(list)\n",
        "list_2= [i for i in range(smallest_value,highest_value+1)]\n",
        "\n",
        "list_3=[]\n",
        "for x in range(list_2[0], list[-1]):\n",
        "  if list_2[i]%x==0:\n",
        "    list_3.append(x)\n",
        "print(list_3)"
      ],
      "metadata": {
        "id": "SpfCLuNMu_VO"
      },
      "execution_count": null,
      "outputs": []
    },
    {
      "cell_type": "code",
      "source": [
        "import datetime as dt\n",
        "\n",
        "# Assigning today's date to 'today'\n",
        "today = dt.date.today()\n",
        "\n",
        "# Prompt the user to enter their date of birth\n",
        "dob_str = input(\"Enter your date of birth in this format dd/mm/yyyy: \")\n",
        "\n",
        "# Parse the user input and handle any potential errors\n",
        "try:\n",
        "    dob = dt.datetime.strptime(dob_str, '%d/%m/%Y').date()\n",
        "except ValueError:\n",
        "    print(\"Invalid date format. Please enter the date in the format dd/mm/yyyy.\")\n",
        "    exit()\n",
        "\n",
        "# Calculate the age\n",
        "age = today.year - dob.year\n",
        "\n",
        "# Check if it's the user's birthday today\n",
        "is_birthday = (dob.month == today.month) and (dob.day == today.day)\n",
        "\n",
        "# Output the result\n",
        "if is_birthday:\n",
        "    print(\"Happy birthday!\")\n",
        "    print(\"You are\", age, \"years old today.\")\n",
        "else:\n",
        "    print(\"Wait until your next birthday.\")\n",
        "    print(\"You are currently\", age, \"years old.\")"
      ],
      "metadata": {
        "id": "K5F_k4Oic7TL",
        "outputId": "fae160ff-190f-4b3b-ccb9-74aa3aea78ab",
        "colab": {
          "base_uri": "https://localhost:8080/"
        }
      },
      "execution_count": 1,
      "outputs": [
        {
          "output_type": "stream",
          "name": "stdout",
          "text": [
            "Enter your date of birth in this format dd/mm/yyyy: 21/11/1990\n",
            "Wait until your next birthday.\n",
            "You are currently 33 years old.\n"
          ]
        }
      ]
    },
    {
      "cell_type": "code",
      "source": [
        "import datetime as dt\n",
        "\n",
        "def calculate_age(dob):\n",
        "    # Assigning today's date to 'today'\n",
        "    today = dt.date.today()\n",
        "\n",
        "    # Calculate the age\n",
        "    age = today.year - dob.year\n",
        "\n",
        "    # Check if it's the user's birthday today\n",
        "    is_birthday = (dob.month == today.month) and (dob.day == today.day)\n",
        "\n",
        "    # Return the age and birthday status\n",
        "    return age, is_birthday\n",
        "\n",
        "def get_user_date_of_birth():\n",
        "    # Prompt the user to enter their date of birth\n",
        "    dob_str = input(\"Enter your date of birth in this format dd/mm/yyyy: \")\n",
        "\n",
        "    # Parse the user input and handle any potential errors\n",
        "    try:\n",
        "        dob = dt.datetime.strptime(dob_str, '%d/%m/%Y').date()\n",
        "    except ValueError:\n",
        "        print(\"Invalid date format. Please enter the date in the format dd/mm/yyyy.\")\n",
        "        return None\n",
        "\n",
        "    return dob\n",
        "\n",
        "def main():\n",
        "    # Get the user's date of birth\n",
        "    dob = get_user_date_of_birth()\n",
        "\n",
        "    # If the date of birth is valid, calculate the age and birthday status\n",
        "    if dob:\n",
        "        age, is_birthday = calculate_age(dob)\n",
        "\n",
        "        # Output the result\n",
        "        if is_birthday:\n",
        "            print(\"Happy birthday!\")\n",
        "            print(\"You are\", age, \"years old today.\")\n",
        "        else:\n",
        "            print(\"Wait until your next birthday.\")\n",
        "            print(\"You are currently\", age, \"years old.\")\n",
        "\n",
        "# Call the main function\n",
        "main()"
      ],
      "metadata": {
        "id": "xEFneSEbhuLC"
      },
      "execution_count": null,
      "outputs": []
    },
    {
      "cell_type": "code",
      "source": [
        "import datetime as dt\n",
        "\n",
        "# Prompt the user to enter their date of birth\n",
        "dob_str = input(\"Enter your date of birth in this format dd/mm/yyyy: \")\n",
        "    # Parse the user input and handle any potential errors\n",
        "try:\n",
        "    dob = dt.datetime.strptime(dob_str, '%d/%m/%Y').date()\n",
        "except ValueError:\n",
        "    print(\"Invalid date format. Please enter the date in the format dd/mm/yyyy.\")\n",
        "    # Assigning today's date to 'today'\n",
        "today = dt.date.today()\n",
        "day_difference=(today - dob).days\n",
        "actual_age=day_difference/365\n",
        "age = today.year - dob.year\n",
        "if (day_difference %365 !=0) and (dob.month == today.month):\n",
        "      if (dob.day == today.day):\n",
        "          age_toady=age-1\n",
        "      print(age_toady)\n",
        "else:\n",
        "    if (day_difference %365 ==0) and (dob.month == today.month):\n",
        "          if (dob.day == today.day):\n",
        "                age=age\n",
        "          print(age)\n"
      ],
      "metadata": {
        "id": "3i5sTVqfh48Y",
        "outputId": "56ea76dd-cc4c-4286-fb87-84f619969a5c",
        "colab": {
          "base_uri": "https://localhost:8080/"
        }
      },
      "execution_count": 12,
      "outputs": [
        {
          "name": "stdout",
          "output_type": "stream",
          "text": [
            "Enter your date of birth in this format dd/mm/yyyy: 21/08/1990\n"
          ]
        }
      ]
    },
    {
      "cell_type": "code",
      "source": [
        "import datetime as dt\n",
        "\n",
        "# Prompt the user to enter their date of birth\n",
        "dob_str = input(\"Enter your date of birth in this format dd/mm/yyyy: \")\n",
        "\n",
        "# Parse the user input and handle any potential errors\n",
        "try:\n",
        "    dob = dt.datetime.strptime(dob_str, '%d/%m/%Y').date()\n",
        "    # Assigning today's date to 'today'\n",
        "today = dt.date.today()\n",
        "day_difference = (today - dob).days\n",
        "actual_age = day_difference / 365\n",
        "age = today.year - dob.year\n",
        "\n",
        "if (day_difference % 365 != 0) and (dob.month == today.month):\n",
        "    #if (dob.day == today.day):\n",
        "    age_today = age - 1\n",
        "    print(age_today)\n",
        "else:\n",
        "    if (day_difference % 365 == 0) and (dob.month == today.month):\n",
        "        #if (dob.day == today.day):\n",
        "      age = age\n",
        "      print(age)\n",
        "except ValueError:\n",
        "    print(\"Invalid date format. Please enter the date in the format dd/mm/yyyy.\")\n",
        "    exit()\n",
        "\n"
      ],
      "metadata": {
        "id": "NHr7elJXmjsq",
        "outputId": "88f5ffc3-e9d5-4bc1-f4e1-ca16bb707382",
        "colab": {
          "base_uri": "https://localhost:8080/"
        }
      },
      "execution_count": 14,
      "outputs": [
        {
          "name": "stdout",
          "output_type": "stream",
          "text": [
            "Enter your date of birth in this format dd/mm/yyyy: 21/08/1990\n"
          ]
        }
      ]
    }
  ]
}