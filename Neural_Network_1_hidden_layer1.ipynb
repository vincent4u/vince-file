{
  "nbformat": 4,
  "nbformat_minor": 0,
  "metadata": {
    "colab": {
      "provenance": [],
      "authorship_tag": "ABX9TyP4UvUbVpvb0OSs7XuM97RI",
      "include_colab_link": true
    },
    "kernelspec": {
      "name": "python3",
      "display_name": "Python 3"
    },
    "language_info": {
      "name": "python"
    }
  },
  "cells": [
    {
      "cell_type": "markdown",
      "metadata": {
        "id": "view-in-github",
        "colab_type": "text"
      },
      "source": [
        "<a href=\"https://colab.research.google.com/github/vincent4u/vince-file/blob/main/Neural_Network_1_hidden_layer1.ipynb\" target=\"_parent\"><img src=\"https://colab.research.google.com/assets/colab-badge.svg\" alt=\"Open In Colab\"/></a>"
      ]
    },
    {
      "cell_type": "code",
      "execution_count": 48,
      "metadata": {
        "colab": {
          "base_uri": "https://localhost:8080/"
        },
        "id": "h55srJy0F7Oy",
        "outputId": "52befd8d-6933-4ddc-d9e2-5148ac414b5d"
      },
      "outputs": [
        {
          "output_type": "stream",
          "name": "stdout",
          "text": [
            "The inputs are: [0.5 0.6]\n",
            "The outputs are: [0.70715768 0.64985006]\n"
          ]
        }
      ],
      "source": [
        "import numpy as np\n",
        "\n",
        "class NN:\n",
        "    def __init__(self, learn_rate=0.5, input_nodes=2, hidden_nodes=2, output_nodes=2):\n",
        "        self.input_nodes = input_nodes\n",
        "        self.hidden_nodes = hidden_nodes\n",
        "        self.output_nodes = output_nodes\n",
        "        self.learn_rate = learn_rate\n",
        "\n",
        "\n",
        "        self.weight1 = np.array([[1.2,0.7], [2,0.6]])\n",
        "        self.weight2=np.array([[0.9,1.5],[1.8,0.2]])\n",
        "\n",
        "    def __sigmoid(self, hidden_input):\n",
        "        return 1 / (1 + np.exp(-1 * self.learn_rate * hidden_input))\n",
        "\n",
        "    def forward_propagation(self, input):\n",
        "        X_input = input\n",
        "        for i in self.weight1:\n",
        "            hidden_input1 = np.dot(X_input, self.weight1)\n",
        "            activated_hidden_output1 = self.__sigmoid(hidden_input1)\n",
        "            hidden_input2 = np.dot(activated_hidden_output1, self.weight2)\n",
        "            activated_hidden_output2 = self.__sigmoid(hidden_input2)\n",
        "            X_input = activated_hidden_output2\n",
        "        return activated_hidden_output2\n",
        "\n",
        "if __name__ == \"__main__\":\n",
        "    input = np.array([0.5, 0.6])\n",
        "    mlp = NN()\n",
        "    output = mlp.forward_propagation(input)\n",
        "\n",
        "    print(\"The inputs are: {}\".format(input))\n",
        "    print(\"The outputs are: {}\".format(output))\n",
        "\n",
        "\n",
        "\n",
        "\n",
        "\n",
        "\n"
      ]
    },
    {
      "cell_type": "code",
      "source": [
        "weight = [np.array([[1.2, 0.7], [2.0, 0.6]]), np.array([[0.9, 1.5],[1.8, 0.0]])]\n",
        "print(weight)"
      ],
      "metadata": {
        "id": "SOKkPClpTmTE"
      },
      "execution_count": null,
      "outputs": []
    },
    {
      "cell_type": "code",
      "source": [],
      "metadata": {
        "id": "bBTWmLzWiJFf"
      },
      "execution_count": null,
      "outputs": []
    }
  ]
}