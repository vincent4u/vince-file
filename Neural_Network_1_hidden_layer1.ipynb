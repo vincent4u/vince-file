{
  "nbformat": 4,
  "nbformat_minor": 0,
  "metadata": {
    "colab": {
      "provenance": [],
      "authorship_tag": "ABX9TyNLxU4t/g1/irNUh2Q18FTz",
      "include_colab_link": true
    },
    "kernelspec": {
      "name": "python3",
      "display_name": "Python 3"
    },
    "language_info": {
      "name": "python"
    }
  },
  "cells": [
    {
      "cell_type": "markdown",
      "metadata": {
        "id": "view-in-github",
        "colab_type": "text"
      },
      "source": [
        "<a href=\"https://colab.research.google.com/github/vincent4u/vince-file/blob/main/Neural_Network_1_hidden_layer1.ipynb\" target=\"_parent\"><img src=\"https://colab.research.google.com/assets/colab-badge.svg\" alt=\"Open In Colab\"/></a>"
      ]
    },
    {
      "cell_type": "code",
      "execution_count": 23,
      "metadata": {
        "colab": {
          "base_uri": "https://localhost:8080/"
        },
        "id": "h55srJy0F7Oy",
        "outputId": "faa39cfb-e9c6-42de-baec-74557546c7a5"
      },
      "outputs": [
        {
          "output_type": "stream",
          "name": "stdout",
          "text": [
            "The inputs are: [0.8 1. ]\n",
            "The outputs are: 0.6152449491598722\n"
          ]
        }
      ],
      "source": [
        "import numpy as np\n",
        "\n",
        "class NN:\n",
        "    def __init__(self, learn_rate=0.5, input_nodes=2, hidden_nodes=3, output_nodes=1):\n",
        "        self.input_nodes = input_nodes\n",
        "        self.hidden_nodes = hidden_nodes\n",
        "        self.output_nodes = output_nodes\n",
        "        self.learn_rate = learn_rate\n",
        "\n",
        "        layers = [self.input_nodes] + [self.hidden_nodes] + [self.output_nodes]\n",
        "        self.weight = [np.array([[1.2, 0.7], [2.0, 0.6], [1.8, 0.0]]), np.array([1, 0.9, 1.5])]\n",
        "\n",
        "    def __sigmoid(self, hidden_input):\n",
        "        return 1 / (1 + np.exp(-1 * self.learn_rate * hidden_input))\n",
        "\n",
        "    def forward_propagation(self, input):\n",
        "        X_input = input\n",
        "        for w1, w2 in zip(self.weight[0], self.weight[1]):\n",
        "            hidden_input1 = np.dot(X_input, w1)\n",
        "            activated_hidden_output1 = self.__sigmoid(hidden_input1)\n",
        "            hidden_input2 = np.dot(activated_hidden_output1, w2)\n",
        "            activated_hidden_output2 = self.__sigmoid(hidden_input2)\n",
        "            X_input = activated_hidden_output2\n",
        "        return activated_hidden_output2\n",
        "\n",
        "if __name__ == \"__main__\":\n",
        "    input = np.array([0.8, 1])\n",
        "    mlp = NN()\n",
        "    output = mlp.forward_propagation(input)\n",
        "\n",
        "    print(\"The inputs are: {}\".format(input))\n",
        "    print(\"The outputs are: {}\".format(output))\n",
        "\n",
        "\n",
        "\n",
        "\n",
        "\n",
        "\n"
      ]
    },
    {
      "cell_type": "code",
      "source": [
        "np.array([[1.2, 0.7], [2.0, 0.6], [1.8, 0.0]])"
      ],
      "metadata": {
        "colab": {
          "base_uri": "https://localhost:8080/"
        },
        "id": "SOKkPClpTmTE",
        "outputId": "8151bc6f-cbd8-4124-879f-d1a70124c2ae"
      },
      "execution_count": 18,
      "outputs": [
        {
          "output_type": "execute_result",
          "data": {
            "text/plain": [
              "array([[1.2, 0.7],\n",
              "       [2. , 0.6],\n",
              "       [1.8, 0. ]])"
            ]
          },
          "metadata": {},
          "execution_count": 18
        }
      ]
    }
  ]
}