{
  "nbformat": 4,
  "nbformat_minor": 0,
  "metadata": {
    "colab": {
      "provenance": [],
      "authorship_tag": "ABX9TyMdy4qg/3496/08ksRern9t",
      "include_colab_link": true
    },
    "kernelspec": {
      "name": "python3",
      "display_name": "Python 3"
    },
    "language_info": {
      "name": "python"
    }
  },
  "cells": [
    {
      "cell_type": "markdown",
      "metadata": {
        "id": "view-in-github",
        "colab_type": "text"
      },
      "source": [
        "<a href=\"https://colab.research.google.com/github/vincent4u/vince-file/blob/main/Neural_Network_1_hidden_layer1.ipynb\" target=\"_parent\"><img src=\"https://colab.research.google.com/assets/colab-badge.svg\" alt=\"Open In Colab\"/></a>"
      ]
    },
    {
      "cell_type": "code",
      "execution_count": 49,
      "metadata": {
        "colab": {
          "base_uri": "https://localhost:8080/"
        },
        "id": "h55srJy0F7Oy",
        "outputId": "90c14f2e-4346-473d-a95e-488b97ba755d"
      },
      "outputs": [
        {
          "output_type": "stream",
          "name": "stdout",
          "text": [
            "The inputs are: [0.8335831  0.45817449]\n",
            "The outputs are: [0.55605017 0.54684415]\n"
          ]
        }
      ],
      "source": [
        "import numpy as np\n",
        "\n",
        "class NN:\n",
        "    def __init__(self, learn_rate=0.5, input_nodes=2, hidden_nodes=2, output_nodes=2):\n",
        "        self.input_nodes = input_nodes\n",
        "        self.hidden_nodes = hidden_nodes\n",
        "        self.output_nodes = output_nodes\n",
        "        self.learn_rate = learn_rate\n",
        "\n",
        "\n",
        "        self.weight1 = np.array([[0.20684407, 0.64723346], [0.63249691, 0.9967866 ]])\n",
        "        self.weight2=np.array([[0.6104764,  0.52148125],[0.17999621, 0.13936888]])\n",
        "\n",
        "    def __sigmoid(self, hidden_input):\n",
        "        return 1 / (1 + np.exp(-1 * self.learn_rate * hidden_input))\n",
        "\n",
        "    def forward_propagation(self, input):\n",
        "        X_input = input\n",
        "        for i in self.weight1:\n",
        "            hidden_input1 = np.dot(X_input, self.weight1)\n",
        "            activated_hidden_output1 = self.__sigmoid(hidden_input1)\n",
        "            hidden_input2 = np.dot(activated_hidden_output1, self.weight2)\n",
        "            activated_hidden_output2 = self.__sigmoid(hidden_input2)\n",
        "            X_input = activated_hidden_output2\n",
        "        return activated_hidden_output2\n",
        "\n",
        "if __name__ == \"__main__\":\n",
        "    input = np.array([0.8335831,  0.45817449])\n",
        "    mlp = NN()\n",
        "    output = mlp.forward_propagation(input)\n",
        "\n",
        "    print(\"The inputs are: {}\".format(input))\n",
        "    print(\"The outputs are: {}\".format(output))\n",
        "\n",
        "\n",
        "\n",
        "\n",
        "\n",
        "\n"
      ]
    },
    {
      "cell_type": "code",
      "source": [
        "weight = [np.array([[1.2, 0.7], [2.0, 0.6]]), np.array([[0.9, 1.5],[1.8, 0.0]])]\n",
        "print(weight)"
      ],
      "metadata": {
        "id": "SOKkPClpTmTE"
      },
      "execution_count": null,
      "outputs": []
    },
    {
      "cell_type": "code",
      "source": [
        "Weight matrix at iteration 1:\n",
        "[[0.20684407 0.64723346]\n",
        " [0.63249691 0.9967866 ]]\n",
        "Weight matrix at iteration 2:\n",
        "[[0.6104764  0.52148125]\n",
        " [0.17999621 0.13936888]]\n",
        "The inputs are: [0.8335831  0.45817449]\n",
        "The outputs are: [0.55629949 0.54703879]"
      ],
      "metadata": {
        "id": "bBTWmLzWiJFf"
      },
      "execution_count": null,
      "outputs": []
    }
  ]
}