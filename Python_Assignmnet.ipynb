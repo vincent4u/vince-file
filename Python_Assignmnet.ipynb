{
  "nbformat": 4,
  "nbformat_minor": 0,
  "metadata": {
    "colab": {
      "provenance": [],
      "toc_visible": true,
      "authorship_tag": "ABX9TyPHGLSWkbsIzh2oPs4QkaSo",
      "include_colab_link": true
    },
    "kernelspec": {
      "name": "python3",
      "display_name": "Python 3"
    },
    "language_info": {
      "name": "python"
    }
  },
  "cells": [
    {
      "cell_type": "markdown",
      "metadata": {
        "id": "view-in-github",
        "colab_type": "text"
      },
      "source": [
        "<a href=\"https://colab.research.google.com/github/vincent4u/vince-file/blob/main/Python_Assignmnet.ipynb\" target=\"_parent\"><img src=\"https://colab.research.google.com/assets/colab-badge.svg\" alt=\"Open In Colab\"/></a>"
      ]
    },
    {
      "cell_type": "code",
      "execution_count": null,
      "metadata": {
        "id": "V8WwkBbrwaKK"
      },
      "outputs": [],
      "source": []
    },
    {
      "cell_type": "code",
      "source": [
        "import datetime as dt\n",
        "import calendar\n",
        "\n",
        "# Prompting the user to enter their date of birth\n",
        "dob_str = input(\"Enter your date of birth in this format dd/mm/yyyy: \")\n",
        "\n",
        "# Parse the user input, handling any potential errors and calculating age\n",
        "try:\n",
        "    dob = dt.datetime.strptime(dob_str, '%d/%m/%Y').date()\n",
        "\n",
        "    # today's current date\n",
        "    today = dt.date.today()\n",
        "\n",
        "    # Calculating the number of days between dob and today\n",
        "    day_difference = (today - dob).days\n",
        "    age = day_difference // 365 #finding actual age\n",
        "    if dob.day <= today.day and dob.month <= today.month: #days and Months less than today\n",
        "        print(age)\n",
        "    if dob.month == today.month and dob.day == today.day:\n",
        "            print('Happy Birthday')\n",
        "            print(age)\n",
        "    else:\n",
        "            print('wait till next year')\n",
        "            print(age-1)\n",
        "except ValueError:\n",
        "    print(\"Invalid date format. Please enter the date in the format dd/mm/yyyy.\")\n",
        "\n",
        "\n"
      ],
      "metadata": {
        "id": "RGlZ1LTm55I8",
        "colab": {
          "base_uri": "https://localhost:8080/"
        },
        "outputId": "da423b9a-1019-4b40-dac6-13d7d15b928e"
      },
      "execution_count": 62,
      "outputs": [
        {
          "output_type": "stream",
          "name": "stdout",
          "text": [
            "Enter your date of birth in this format dd/mm/yyyy: 01/01/2001\n",
            "22\n",
            "wait till next year\n",
            "21\n"
          ]
        }
      ]
    },
    {
      "cell_type": "code",
      "source": [
        "\n"
      ],
      "metadata": {
        "id": "KnQCznRB4fk8"
      },
      "execution_count": null,
      "outputs": []
    }
  ]
}