{
  "nbformat": 4,
  "nbformat_minor": 0,
  "metadata": {
    "colab": {
      "provenance": [],
      "authorship_tag": "ABX9TyNt4s1g0tC4G4yMaImdSm+R",
      "include_colab_link": true
    },
    "kernelspec": {
      "name": "python3",
      "display_name": "Python 3"
    },
    "language_info": {
      "name": "python"
    }
  },
  "cells": [
    {
      "cell_type": "markdown",
      "metadata": {
        "id": "view-in-github",
        "colab_type": "text"
      },
      "source": [
        "<a href=\"https://colab.research.google.com/github/vincent4u/vince-file/blob/main/Python_Assignmnet.ipynb\" target=\"_parent\"><img src=\"https://colab.research.google.com/assets/colab-badge.svg\" alt=\"Open In Colab\"/></a>"
      ]
    },
    {
      "cell_type": "code",
      "execution_count": null,
      "metadata": {
        "id": "V8WwkBbrwaKK"
      },
      "outputs": [],
      "source": []
    },
    {
      "cell_type": "code",
      "source": [
        "#question 1\n",
        "import datetime as dt\n",
        "import calendar\n",
        "\n",
        "# Prompting the user to enter their date of birth\n",
        "dob_str = input(\"Enter your date of birth in this format dd/mm/yyyy: \")\n",
        "\n",
        "# Parse the user input, handling any potential errors and calculating age\n",
        "try:\n",
        "    dob = dt.datetime.strptime(dob_str, '%d/%m/%Y').date()\n",
        "\n",
        "    # today's current date\n",
        "    today = dt.date.today()\n",
        "\n",
        "    # Calculating the number of days between dob and today\n",
        "    day_difference = (today - dob).days\n",
        "    age = day_difference // 365 #finding actual age\n",
        "    if dob.day <= today.day and dob.month <= today.month: #days and Months less than today\n",
        "        print(f'{age}, years old')\n",
        "        if dob.month == today.month and dob.day == today.day:\n",
        "            print('Happy Birthday')\n",
        "            print(f'{age}, years old')\n",
        "        if dob.day >= today.day and dob.month >= today.month:\n",
        "            print(age,\"years old\")\n",
        "    else:\n",
        "            print(f'{age}, years old')\n",
        "except ValueError:\n",
        "    print(\"Invalid date format. Please enter the date in the format dd/mm/yyyy.\")\n",
        "\n",
        "\n"
      ],
      "metadata": {
        "id": "RGlZ1LTm55I8",
        "colab": {
          "base_uri": "https://localhost:8080/"
        },
        "outputId": "03fef3c6-8f63-496d-9b32-90675bcf7f23"
      },
      "execution_count": 13,
      "outputs": [
        {
          "output_type": "stream",
          "name": "stdout",
          "text": [
            "Enter your date of birth in this format dd/mm/yyyy: 04/08/2000\n",
            "23, years old\n"
          ]
        }
      ]
    },
    {
      "cell_type": "code",
      "source": [
        "# Getting the user to input the numbers\n",
        "input_1 = int(input(\"Enter the first number: \"))\n",
        "input_2 = int(input(\"Enter the second number: \"))\n",
        "\n",
        "try:\n",
        "    num_1 = input_1\n",
        "    num_2 = input_2\n",
        "    if num_1 <= 0 or num_2 <= 0:\n",
        "        raise ValueError\n",
        "except ValueError:\n",
        "    print(\"Invalid input. Please enter a positive integer.\")\n",
        "    exit()\n",
        "\n",
        "if num_1 is not None and num_2 is not None:\n",
        "    # Ensure input_1 is smaller than input_2\n",
        "    start_num = min(num_1, num_2)\n",
        "    end_num = max(num_1, num_2)\n",
        "\n",
        "    prime_numbers = []\n",
        "    for num in range(start_num, end_num + 1):\n",
        "        if num < 2:\n",
        "            continue\n",
        "        is_prime = True\n",
        "        for i in range(2, int(num ** 0.5) + 1):\n",
        "            if num % i == 0:\n",
        "                is_prime = False\n",
        "                break\n",
        "        if is_prime:\n",
        "            prime_numbers.append(num)\n",
        "    #print(prime_numbers)\n",
        "count = 0\n",
        "for prime in prime_numbers:\n",
        "    print(prime, end=\" \")\n",
        "    count += 1\n",
        "    if count % 10 == 0:\n",
        "      print()"
      ],
      "metadata": {
        "id": "bUYdyk7EQdSz"
      },
      "execution_count": null,
      "outputs": []
    },
    {
      "cell_type": "code",
      "source": [
        "#this is good\n",
        "def generate_prime_numbers(start_num, end_num):\n",
        "    prime_numbers = []\n",
        "    for num in range(start_num, end_num + 1):\n",
        "        if num < 2:\n",
        "            continue\n",
        "        is_prime = True\n",
        "        for i in range(2, int(num ** 0.5) + 1):\n",
        "            if num % i == 0:\n",
        "                is_prime = False\n",
        "                break\n",
        "        if is_prime:\n",
        "            prime_numbers.append(num)\n",
        "    return prime_numbers\n",
        "\n",
        "# Getting the user to input the numbers\n",
        "input_1 = int(input(\"Enter the first number: \"))\n",
        "input_2 = int(input(\"Enter the second number: \"))\n",
        "\n",
        "try:\n",
        "    num_1 = input_1\n",
        "    num_2 = input_2\n",
        "    if num_1 <= 0 or num_2 <= 0:\n",
        "        raise ValueError\n",
        "except ValueError:\n",
        "    print(\"Invalid input. Please enter a positive integer.\")\n",
        "    exit()\n",
        "\n",
        "if num_1 is not None and num_2 is not None:\n",
        "    # Ensure input_1 is smaller than input_2\n",
        "    start_num = min(num_1, num_2)\n",
        "    end_num = max(num_1, num_2)\n",
        "    primes = generate_prime_numbers(start_num, end_num)\n",
        "\n",
        "    # Print prime numbers with 10 primes per line\n",
        "    for i, prime in enumerate(primes):\n",
        "        print(prime, end=\" \")\n",
        "        if (i + 1) % 10 == 0:\n",
        "            print()"
      ],
      "metadata": {
        "id": "K4GlfdtrSRJV"
      },
      "execution_count": null,
      "outputs": []
    },
    {
      "cell_type": "code",
      "source": [
        "#question2 the best\n",
        "def generate_prime_numbers():\n",
        "    # Getting the user to input the numbers\n",
        "    input_1 = int(input(\"Enter the first number: \"))\n",
        "    input_2 = int(input(\"Enter the second number: \"))\n",
        "\n",
        "    #Validating the user inputs\n",
        "    try:\n",
        "        num_1 = input_1\n",
        "        num_2 = input_2\n",
        "        if num_1 <= 0 or num_2 <= 0: #setting the validation parameter\n",
        "            raise ValueError\n",
        "    except ValueError:\n",
        "        print(\"Invalid input. Please enter a positive integer.\")\n",
        "        return None\n",
        "\n",
        "    if num_1 is not None and num_2 is not None:\n",
        "        # Ensuring input_1 is smaller than input_2\n",
        "        start_num = min(num_1, num_2)\n",
        "        end_num = max(num_1, num_2)\n",
        "\n",
        "    # solving for prime numbers and appending prime_numbers to list\n",
        "    prime_numbers = []\n",
        "    for num in range(start_num, end_num + 1):\n",
        "        if num < 2:\n",
        "            continue\n",
        "        is_prime = True\n",
        "        for i in range(2, int(num ** 0.5) + 1):\n",
        "            if num % i == 0:\n",
        "                is_prime = False\n",
        "                break\n",
        "        if is_prime:\n",
        "            prime_numbers.append(num)\n",
        "\n",
        "    list2 = []\n",
        "    # Iterate through 'prime_numbers' with a step of 10 (to create 10 elements per line)\n",
        "    for i in range(0, len(prime_numbers), 10):   # Get ten elements at a time using slicing (start=0, stop=len(prime_numbers),step=10)\n",
        "        sublist = prime_numbers[i:i + 10]\n",
        "        list2.append(sublist)\n",
        "\n",
        "    return list2\n",
        "\n",
        "# Calling the function\n",
        "result = generate_prime_numbers()\n",
        "\n",
        "# Print the result\n",
        "if result:\n",
        "    for sublist in result:\n",
        "        print(sublist)"
      ],
      "metadata": {
        "id": "QZqE7DZaVMXS"
      },
      "execution_count": null,
      "outputs": []
    },
    {
      "cell_type": "code",
      "source": [
        "generate_prime_numbers()\n"
      ],
      "metadata": {
        "id": "uRCIlfBBXMI2",
        "outputId": "72634288-a4e2-4e49-8e09-da31c0df8c58",
        "colab": {
          "base_uri": "https://localhost:8080/"
        }
      },
      "execution_count": 12,
      "outputs": [
        {
          "output_type": "stream",
          "name": "stdout",
          "text": [
            "Enter the first number: -3\n",
            "Enter the second number: 5\n",
            "Invalid input. Please enter a positive integer.\n"
          ]
        }
      ]
    }
  ]
}