{
  "nbformat": 4,
  "nbformat_minor": 0,
  "metadata": {
    "colab": {
      "provenance": [],
      "authorship_tag": "ABX9TyMsbBQ7BWZ9u4JHUDhcoE1Y",
      "include_colab_link": true
    },
    "kernelspec": {
      "name": "python3",
      "display_name": "Python 3"
    },
    "language_info": {
      "name": "python"
    }
  },
  "cells": [
    {
      "cell_type": "markdown",
      "metadata": {
        "id": "view-in-github",
        "colab_type": "text"
      },
      "source": [
        "<a href=\"https://colab.research.google.com/github/vincent4u/vince-file/blob/main/Python_Assignmnet.ipynb\" target=\"_parent\"><img src=\"https://colab.research.google.com/assets/colab-badge.svg\" alt=\"Open In Colab\"/></a>"
      ]
    },
    {
      "cell_type": "code",
      "execution_count": null,
      "metadata": {
        "id": "V8WwkBbrwaKK"
      },
      "outputs": [],
      "source": []
    },
    {
      "cell_type": "code",
      "source": [
        "import datetime as dt\n",
        "import calendar\n",
        "\n",
        "# Prompting the user to enter their date of birth\n",
        "dob_str = input(\"Enter your date of birth in this format dd/mm/yyyy: \")\n",
        "\n",
        "# Parse the user input, handling any potential errors and calculating age\n",
        "try:\n",
        "    dob = dt.datetime.strptime(dob_str, '%d/%m/%Y').date()\n",
        "\n",
        "    # today's current date\n",
        "    today = dt.date.today()\n",
        "\n",
        "    # Calculating the number of days between dob and today\n",
        "    day_difference = (today - dob).days\n",
        "    age = day_difference // 365 #finding actual age\n",
        "    if dob.day <= today.day and dob.month <= today.month: #days and Months less than today\n",
        "        print(f'{age}, years old')\n",
        "        if dob.month == today.month and dob.day == today.day:\n",
        "            print('Happy Birthday')\n",
        "            print(f'{age}, years old')\n",
        "        if dob.day >= today.day and dob.month >= today.month:\n",
        "            print(age,\"years old\")\n",
        "    else:\n",
        "            print(f'{age}, years old')\n",
        "except ValueError:\n",
        "    print(\"Invalid date format. Please enter the date in the format dd/mm/yyyy.\")\n",
        "\n",
        "\n"
      ],
      "metadata": {
        "id": "RGlZ1LTm55I8",
        "colab": {
          "base_uri": "https://localhost:8080/"
        },
        "outputId": "03fef3c6-8f63-496d-9b32-90675bcf7f23"
      },
      "execution_count": 13,
      "outputs": [
        {
          "output_type": "stream",
          "name": "stdout",
          "text": [
            "Enter your date of birth in this format dd/mm/yyyy: 04/08/2000\n",
            "23, years old\n"
          ]
        }
      ]
    },
    {
      "cell_type": "code",
      "source": [
        "\n"
      ],
      "metadata": {
        "id": "KnQCznRB4fk8"
      },
      "execution_count": null,
      "outputs": []
    }
  ]
}