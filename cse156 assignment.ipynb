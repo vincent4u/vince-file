{
  "nbformat": 4,
  "nbformat_minor": 0,
  "metadata": {
    "colab": {
      "provenance": [],
      "authorship_tag": "ABX9TyMlms3Wv+/jm4Ry4fs8Ymy9",
      "include_colab_link": true
    },
    "kernelspec": {
      "name": "python3",
      "display_name": "Python 3"
    },
    "language_info": {
      "name": "python"
    }
  },
  "cells": [
    {
      "cell_type": "markdown",
      "metadata": {
        "id": "view-in-github",
        "colab_type": "text"
      },
      "source": [
        "<a href=\"https://colab.research.google.com/github/vincent4u/vince-file/blob/main/cse156%20assignment.ipynb\" target=\"_parent\"><img src=\"https://colab.research.google.com/assets/colab-badge.svg\" alt=\"Open In Colab\"/></a>"
      ]
    },
    {
      "cell_type": "code",
      "execution_count": 3,
      "metadata": {
        "id": "Pr_61xG_lPWW"
      },
      "outputs": [],
      "source": [
        "from datetime import date\n",
        "import datetime\n"
      ]
    },
    {
      "cell_type": "code",
      "source": [
        "x = datetime.datetime.now()\n",
        "print(x)\n",
        "\n",
        "today = date.today()\n",
        "print('Today:', today)\n"
      ],
      "metadata": {
        "colab": {
          "base_uri": "https://localhost:8080/"
        },
        "id": "S_xTkxgVlm35",
        "outputId": "93558f84-5f17-4d75-d490-e3e773b7df3f"
      },
      "execution_count": 9,
      "outputs": [
        {
          "output_type": "stream",
          "name": "stdout",
          "text": [
            "2023-11-27 12:17:02.558840\n",
            "Today: 2023-11-27\n"
          ]
        }
      ]
    },
    {
      "cell_type": "code",
      "source": [
        "import datetime\n",
        "today = datetime.date.today()\n",
        "print('Today:', today)\n",
        "yesterday = today - datetime.timedelta(days=1)\n",
        "print('Yesterday:', yesterday)\n",
        "tomorrow = today + datetime.timedelta(days=1)\n",
        "print('Tomorrow:', tomorrow)\n",
        "print('Time between tomorrow and yesterday:', tomorrow - yesterday)"
      ],
      "metadata": {
        "colab": {
          "base_uri": "https://localhost:8080/"
        },
        "id": "mtUlhmxNtxgm",
        "outputId": "2323ce88-f92a-42a5-8148-3bdad452d305"
      },
      "execution_count": 26,
      "outputs": [
        {
          "output_type": "stream",
          "name": "stdout",
          "text": [
            "Today: 2023-11-27\n",
            "Yesterday: 2023-11-26\n",
            "Tomorrow: 2023-11-28\n",
            "Time between tomorrow and yesterday: 2 days, 0:00:00\n"
          ]
        }
      ]
    },
    {
      "cell_type": "code",
      "source": [
        "import datetime\n",
        "today = date.today()\n",
        "print('Today:', today)\n",
        "yesterday = today - datetime.timedelta(days=1)\n",
        "print('Yesterday:', yesterday)\n",
        "tomorrow = today + datetime.timedelta(days=1)\n",
        "print('Tomorrow:', tomorrow)\n",
        "print('Time between tomorrow and yesterday:', tomorrow - yesterday)"
      ],
      "metadata": {
        "colab": {
          "base_uri": "https://localhost:8080/"
        },
        "id": "5rhqrAVwyX23",
        "outputId": "7337cc05-ab3b-4315-8098-d9b7787e1881"
      },
      "execution_count": 27,
      "outputs": [
        {
          "output_type": "stream",
          "name": "stdout",
          "text": [
            "Today: 2023-11-27\n",
            "Yesterday: 2023-11-26\n",
            "Tomorrow: 2023-11-28\n",
            "Time between tomorrow and yesterday: 2 days, 0:00:00\n"
          ]
        }
      ]
    },
    {
      "cell_type": "code",
      "source": [
        "\n",
        "import calendar\n",
        "from datetime import date\n",
        "def monthdelta(date, delta):\n",
        " m, y = (date.month+delta) % 12, date.year + ((date.month)+delta-1) // 12\n",
        " if not m: m = 12\n",
        " d = min(date.day, calendar.monthrange(y, m)[1])\n",
        " return date.replace(day=d,month=m, year=y)\n",
        "next_month = monthdelta(date.today(), 1) #\n",
        "\n",
        "\n",
        "print(next_month)"
      ],
      "metadata": {
        "colab": {
          "base_uri": "https://localhost:8080/"
        },
        "id": "v-y_j8JFuXIO",
        "outputId": "7483c365-87e6-463a-d1c7-237cef985a8d"
      },
      "execution_count": 12,
      "outputs": [
        {
          "output_type": "stream",
          "name": "stdout",
          "text": [
            "2023-12-27\n"
          ]
        }
      ]
    },
    {
      "cell_type": "code",
      "source": [
        "import datetime\n",
        "# Function to convert string to datetime\n",
        "def convert(date_time):\n",
        "  format = '%b %d %Y %I:%M%p'\n",
        "  datetime_str = datetime.datetime.strptime(date_time, format)\n",
        "  return datetime_str\n",
        "date_time = 'Dec 4 2018 10:07AM'\n",
        "print(convert(date_time))\n",
        "print(type(convert(date_time)))"
      ],
      "metadata": {
        "colab": {
          "base_uri": "https://localhost:8080/"
        },
        "id": "MyqU0fvmu9lx",
        "outputId": "2597056d-a0e5-480b-a813-120fe49ba0a9"
      },
      "execution_count": 14,
      "outputs": [
        {
          "output_type": "stream",
          "name": "stdout",
          "text": [
            "2018-12-04 10:07:00\n",
            "<class 'datetime.datetime'>\n"
          ]
        }
      ]
    },
    {
      "cell_type": "code",
      "source": [
        "import datetime\n",
        "from datetime import datetime\n",
        "\n",
        "birthday = input(\"Enter your date of birth: \")\n",
        "\n",
        "bday = datetime.strptime(birthday, '%d/%m/%Y')\n",
        "today = date.today()\n",
        "todays_date=datetime.strptime(today, '%d/%m/%Y')\n",
        "print('Time between tomorrow and yesterday:', todays_date - bday)\n",
        "print(f'Day: {bday.day}')\n",
        "print(f'Month: {bday.month}')\n",
        "print(f'Year: {bday.year}')"
      ],
      "metadata": {
        "id": "t34d_6_yv754"
      },
      "execution_count": null,
      "outputs": []
    },
    {
      "cell_type": "code",
      "source": [
        "from datetime import date\n",
        "import datetime\n",
        "from dateutil import parser\n",
        "\n",
        "DT = parser.parse(input(\"Enter your date of birth: \"))\n",
        "x = datetime.datetime.now()\n",
        "today = datetime.datetime.today()\n",
        "\n",
        "print('you_age is:', DT - today)\n",
        "#print('Today:', today)\n",
        "#print(DT)\n",
        "#print(type(DT))"
      ],
      "metadata": {
        "colab": {
          "base_uri": "https://localhost:8080/"
        },
        "id": "ko6YAKH4zAiX",
        "outputId": "0317d433-b18a-4420-c985-d9f4e78ffdba"
      },
      "execution_count": 33,
      "outputs": [
        {
          "output_type": "stream",
          "name": "stdout",
          "text": [
            "Enter your date of birth: 21/08/1990\n",
            "you_age is: -12152 days, 11:11:28.790658\n"
          ]
        }
      ]
    }
  ]
}