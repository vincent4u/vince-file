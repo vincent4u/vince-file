{
  "nbformat": 4,
  "nbformat_minor": 0,
  "metadata": {
    "colab": {
      "provenance": [],
      "authorship_tag": "ABX9TyPjULwu+KMiT2N0PaD8QsFB",
      "include_colab_link": true
    },
    "kernelspec": {
      "name": "python3",
      "display_name": "Python 3"
    },
    "language_info": {
      "name": "python"
    }
  },
  "cells": [
    {
      "cell_type": "markdown",
      "metadata": {
        "id": "view-in-github",
        "colab_type": "text"
      },
      "source": [
        "<a href=\"https://colab.research.google.com/github/vincent4u/vince-file/blob/main/Week3_neural%20network(feedforward).ipynb\" target=\"_parent\"><img src=\"https://colab.research.google.com/assets/colab-badge.svg\" alt=\"Open In Colab\"/></a>"
      ]
    },
    {
      "cell_type": "code",
      "execution_count": 29,
      "metadata": {
        "id": "TN2jkiiQKq7a"
      },
      "outputs": [],
      "source": [
        "import numpy as np\n",
        "x1=1\n",
        "x2=2\n",
        "w1=0.1\n",
        "w2=0.2\n",
        "w3=0.1\n",
        "w4=0.4\n",
        "w1h=0.2\n",
        "w2h=0.3\n",
        "w3h=0.4\n",
        "w4h=0.5\n",
        "learning_rate=0.5\n",
        "y1_actual=1\n",
        "y2_actual=0"
      ]
    },
    {
      "cell_type": "code",
      "source": [
        "def node_input(weight,input):\n",
        "  np_weight = np.array(weight)\n",
        "  np_input = np.array(input)\n",
        "  hidden_input=np.dot(np_weight,np_input)\n",
        "  return hidden_input"
      ],
      "metadata": {
        "id": "YuvyyBDgTE6c"
      },
      "execution_count": 30,
      "outputs": []
    },
    {
      "cell_type": "code",
      "source": [
        "def sigmoid(hidden_input):\n",
        "  #input_value = node_input([[0.1, 0.2],[0.1, 0.4]], [1, 2])\n",
        "   return 1/(1+np.exp(0.5*hidden_input))\n",
        "\n",
        ""
      ],
      "metadata": {
        "id": "dqDltzO5TLey"
      },
      "execution_count": 31,
      "outputs": []
    },
    {
      "cell_type": "code",
      "source": [
        "def node_output(hidden_input,activation_function):\n",
        "  return sigmoid(node_input)\n"
      ],
      "metadata": {
        "id": "i4axUrmAT5gM"
      },
      "execution_count": 32,
      "outputs": []
    },
    {
      "cell_type": "code",
      "source": [
        "W1=[w1,w3]\n",
        "X1=[x1,x2]\n",
        "h1_input= node_input(W1,X1)\n",
        "#print(h1_input)\n",
        "h1_output = sigmoid(h1_input)\n",
        "#print(h1_output)\n",
        "\n",
        "W2=[w2,w4]\n",
        "X2=[x1,x2]\n",
        "h2_input= node_input(W1,X1)\n",
        "h2_output= sigmoid(h2_input)\n",
        "\n",
        "Wh1=[w1h,w3h]\n",
        "H=[h1_output,h2_output]\n",
        "y1_input=node_input(Wh1,H)\n",
        "y1_output=sigmoid(y1_input)\n",
        "print(y1_output)\n",
        "\n",
        "Wh2=[w2h,w4h]\n",
        "y2_input=node_input(Wh2,H)\n",
        "y2_output=sigmoid(y2_input)\n",
        "print(y2_output)\n",
        "\n",
        "E1= y1_actual-y1_output\n",
        "E2= y2_actual-y2_output\n",
        "print(E1)\n",
        "print(E2)"
      ],
      "metadata": {
        "colab": {
          "base_uri": "https://localhost:8080/"
        },
        "id": "ZFIPJ06vVs6g",
        "outputId": "7e9066e2-30f0-4471-8427-782f4f2f46b6"
      },
      "execution_count": 33,
      "outputs": [
        {
          "output_type": "stream",
          "name": "stdout",
          "text": [
            "0.4653628057701042\n",
            "0.45387450318292955\n",
            "0.5346371942298958\n",
            "-0.45387450318292955\n"
          ]
        }
      ]
    }
  ]
}