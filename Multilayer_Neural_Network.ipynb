{
  "nbformat": 4,
  "nbformat_minor": 0,
  "metadata": {
    "colab": {
      "provenance": [],
      "authorship_tag": "ABX9TyPpHpHkKrPij04KrSZ9IuHm",
      "include_colab_link": true
    },
    "kernelspec": {
      "name": "python3",
      "display_name": "Python 3"
    },
    "language_info": {
      "name": "python"
    }
  },
  "cells": [
    {
      "cell_type": "markdown",
      "metadata": {
        "id": "view-in-github",
        "colab_type": "text"
      },
      "source": [
        "<a href=\"https://colab.research.google.com/github/vincent4u/vince-file/blob/main/Multilayer_Neural_Network.ipynb\" target=\"_parent\"><img src=\"https://colab.research.google.com/assets/colab-badge.svg\" alt=\"Open In Colab\"/></a>"
      ]
    },
    {
      "cell_type": "code",
      "execution_count": 2,
      "metadata": {
        "colab": {
          "base_uri": "https://localhost:8080/"
        },
        "id": "5r7kpgpkHKfW",
        "outputId": "4f1b985a-91d6-42d5-d4e9-51fbb6434d1c"
      },
      "outputs": [
        {
          "output_type": "stream",
          "name": "stdout",
          "text": [
            "Weight matrix at layer 1: \n",
            "[[0.7436289  0.93327968 0.00656294]\n",
            " [0.36398197 0.20827025 0.40672811]]\n",
            "Weight matrix at layer 2: \n",
            "[[0.89372475 0.45071784]\n",
            " [0.98790078 0.31990706]\n",
            " [0.59315556 0.26448397]]\n",
            "The inputs are: [0.45953107 0.19110967]\n",
            "The outputs are: [0.66226113 0.56978768]\n"
          ]
        }
      ],
      "source": [
        "import numpy as np\n",
        "\n",
        "class NN:\n",
        "    def __init__(self, learn_rate=0.5, input_nodes=2, hidden_nodes=3, output_nodes=2):\n",
        "        self.input_nodes = input_nodes\n",
        "        self.hidden_nodes = hidden_nodes\n",
        "        self.output_nodes = output_nodes\n",
        "        self.learn_rate = learn_rate\n",
        "\n",
        "\n",
        "        #Defining the layers and attributing random weights for each layers per nodes\n",
        "\n",
        "        layers = [self.input_nodes] + [self.hidden_nodes]+ [self.output_nodes]\n",
        "        self.weight = []\n",
        "        for i in range(len(layers)-1):\n",
        "            w = np.random.rand(layers[i], layers[i+1])\n",
        "            self.weight.append(w)\n",
        "\n",
        "    def __sigmoid(self, hidden_input):\n",
        "        return 1 / (1 + np.exp(-1 * self.learn_rate * hidden_input))\n",
        "\n",
        "    def forward_propagation(self, input):\n",
        "        X_input = input\n",
        "        for i,w in enumerate(self.weight):\n",
        "            hidden_input = np.dot(X_input, w)\n",
        "            activated_hidden_input = self.__sigmoid(hidden_input)\n",
        "            X_input = activated_hidden_input\n",
        "            print(\"Weight matrix at layer {}: \\n{}\".format(i+1, w))\n",
        "        return activated_hidden_input\n",
        "\n",
        "    # def backward_propagation(self, input,target):\n",
        "    #   predictions=self.forward_propagation(input)  #i should have worked on this more\n",
        "    #   error=target-predictions\n",
        "\n",
        "if __name__ == \"__main__\":\n",
        "    mlp = NN()\n",
        "    input = np.random.rand(mlp.input_nodes)\n",
        "    output = mlp.forward_propagation(input)\n",
        "\n",
        "    print(\"The inputs are: {}\".format(input))\n",
        "    print(\"The outputs are: {}\".format(output))"
      ]
    },
    {
      "cell_type": "markdown",
      "source": [
        "Neural Network;\n",
        "I developed the Neural network structure from the onset. Allowing the user to determine the number of nodes and the number of hidden layer. note if the network is to have multiple hidden layers say two hidden layers with 3 nodes for the first hidden layer and 5 nodes for the second hidden layer, then the structure would be changed from the def...as\n",
        "def __init__(self, learn_rate=0.5, input_nodes=2, hidden_nodes=[3,5], output_nodes=2).\n",
        "where the hidden nodes=[3,5] specifies the number of nodes for each of the hidden layer segments."
      ],
      "metadata": {
        "id": "5TNpmJyvY250"
      }
    },
    {
      "cell_type": "code",
      "source": [],
      "metadata": {
        "id": "vHY_1zgyI6uv"
      },
      "execution_count": null,
      "outputs": []
    }
  ]
}