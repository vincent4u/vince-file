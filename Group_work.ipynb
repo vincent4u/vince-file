{
  "nbformat": 4,
  "nbformat_minor": 0,
  "metadata": {
    "colab": {
      "provenance": [],
      "authorship_tag": "ABX9TyPEe62Fo1E1GTgaUYr8D3J8",
      "include_colab_link": true
    },
    "kernelspec": {
      "name": "python3",
      "display_name": "Python 3"
    },
    "language_info": {
      "name": "python"
    }
  },
  "cells": [
    {
      "cell_type": "markdown",
      "metadata": {
        "id": "view-in-github",
        "colab_type": "text"
      },
      "source": [
        "<a href=\"https://colab.research.google.com/github/vincent4u/vince-file/blob/main/Group_work.ipynb\" target=\"_parent\"><img src=\"https://colab.research.google.com/assets/colab-badge.svg\" alt=\"Open In Colab\"/></a>"
      ]
    },
    {
      "cell_type": "code",
      "execution_count": 1,
      "metadata": {
        "id": "CtAly9QeHjO8"
      },
      "outputs": [],
      "source": [
        "import pandas as pd\n",
        "import numpy as np\n",
        "from sklearn.model_selection import train_test_split\n",
        "from sklearn.preprocessing import StandardScaler\n",
        "from keras.models import Sequential\n",
        "from keras.layers import LSTM, Dense"
      ]
    },
    {
      "cell_type": "code",
      "source": [
        "#Reading the files\n",
        "data1=pd.read_csv(\"/content/train.csv\")\n",
        "data2=pd.read_csv(\"/content/train_preprocessed.csv\",compression='gzip')\n",
        "#print(data1.shape)\n",
        "#data2.shape"
      ],
      "metadata": {
        "colab": {
          "base_uri": "https://localhost:8080/"
        },
        "id": "ITv9vWZOKfun",
        "outputId": "cb9db176-6a8e-477f-f3df-97ff2179d6f8"
      },
      "execution_count": null,
      "outputs": [
        {
          "output_type": "stream",
          "name": "stderr",
          "text": [
            "<ipython-input-3-dd369018c15a>:2: DtypeWarning: Columns (7) have mixed types. Specify dtype option on import or set low_memory=False.\n",
            "  data1=pd.read_csv(\"/content/train.csv\")\n"
          ]
        }
      ]
    },
    {
      "cell_type": "code",
      "source": [
        "data_sales=data1['Sales']\n",
        "#print(data_sales.shape)"
      ],
      "metadata": {
        "id": "8BGHfrS4XsAT"
      },
      "execution_count": null,
      "outputs": []
    },
    {
      "cell_type": "code",
      "source": [
        "#concatanating preprocessed train data to only the sales record\n",
        "rossman_processed_data=pd.concat([data2,data_sales],axis=1)\n",
        "# features = []\n",
        "# target=rossman_processed_data.iloc[:, -1].tolist()\n",
        "# for _, row in rossman_processed_data.iloc[:, :-1].iterrows():\n",
        "#     features.extend(row.values.tolist())\n",
        "#print(input_list)\n",
        "\n",
        "rossman_features = rossman_processed_data.iloc[:, :-1].values.tolist()\n",
        "rossman_target = rossman_processed_data.iloc[:, -1].tolist()"
      ],
      "metadata": {
        "id": "goyBD73aMwaN"
      },
      "execution_count": null,
      "outputs": []
    },
    {
      "cell_type": "code",
      "source": [
        "# Load the preprocessed dataset\n",
        "#data = pd.read_csv('preprocessed_rossmann.csv')\n",
        "\n",
        "# Select features and target variable\n",
        "#features = ['Store', 'DayOfWeek', 'Promo', 'StateHoliday', 'SchoolHoliday', 'Year', 'Month', 'Day', 'WeekOfYear', 'CompetitionOpen', 'PromoOpen']\n",
        "#features=data2\n",
        "#target = data_sales\n",
        "#data = [features + [target]]\n",
        "\n",
        "# Split the data into training and testing sets\n",
        "X_train, X_test, y_train, y_test = train_test_split(rossman_features, rossman_target, test_size=0.2, random_state=42)\n",
        "\n"
      ],
      "metadata": {
        "id": "lfKnEWTqOB35"
      },
      "execution_count": null,
      "outputs": []
    },
    {
      "cell_type": "code",
      "source": [
        "# Separate features and target variable\n",
        "train_features = X_train\n",
        "train_target = y_train\n",
        "test_features = X_test\n",
        "test_target = y_test\n",
        "\n",
        "scaler = StandardScaler()\n",
        "train_features = scaler.fit_transform(train_features)\n",
        "test_features = scaler.transform(test_features)\n",
        "\n"
      ],
      "metadata": {
        "id": "mfJgnCzMfFU3"
      },
      "execution_count": null,
      "outputs": []
    },
    {
      "cell_type": "code",
      "source": [
        "# Scale the features\n",
        "\n",
        "# Reshape the data for LSTM input [samples, time steps, features]\n",
        "# train_features = train_features.reshape((-1, 1, len(rossman_features)))\n",
        "# test_features = test_features.reshape((-1, 1, len(rossman_features)))\n",
        "\n",
        "train_features = train_features.reshape((-1, 1, len(rossman_features[0])))\n",
        "test_features = test_features.reshape((-1, 1, len(rossman_features[0])))\n"
      ],
      "metadata": {
        "id": "gYbUHQdGg7FG"
      },
      "execution_count": null,
      "outputs": []
    },
    {
      "cell_type": "code",
      "source": [
        "import tensorflow as tf\n",
        "from tensorflow.keras.models import Sequential\n",
        "from tensorflow.keras.layers import LSTM, Dense\n",
        "\n",
        "# Set the TensorFlow backend\n",
        "tf.keras.backend.set_floatx('float32')\n",
        "\n",
        "# Build the LSTM model\n",
        "model = Sequential()\n",
        "model.add(LSTM(128, input_shape=(1, len(train_features[0]))))\n",
        "model.add(Dense(1))\n",
        "\n",
        "# Compile the model\n",
        "model.compile(loss='mse', optimizer='adam')\n",
        "\n",
        "# Train the model\n",
        "model.fit(train_features, train_target, epochs=10, batch_size=32)\n",
        "\n",
        "# Evaluate the model\n",
        "loss = model.evaluate(test_features, test_target)\n",
        "print('Test loss:', loss)\n",
        "\n",
        "# Make predictions\n",
        "predictions = model.predict(test_features)"
      ],
      "metadata": {
        "colab": {
          "base_uri": "https://localhost:8080/",
          "height": 425
        },
        "id": "hSjyeT-nmtnG",
        "outputId": "b40fb220-2af9-4490-921f-96dbe33244b5"
      },
      "execution_count": null,
      "outputs": [
        {
          "output_type": "error",
          "ename": "ValueError",
          "evalue": "ignored",
          "traceback": [
            "\u001b[0;31m---------------------------------------------------------------------------\u001b[0m",
            "\u001b[0;31mValueError\u001b[0m                                Traceback (most recent call last)",
            "\u001b[0;32m<ipython-input-11-c1e7b8b14fa2>\u001b[0m in \u001b[0;36m<cell line: 17>\u001b[0;34m()\u001b[0m\n\u001b[1;32m     15\u001b[0m \u001b[0;34m\u001b[0m\u001b[0m\n\u001b[1;32m     16\u001b[0m \u001b[0;31m# Train the model\u001b[0m\u001b[0;34m\u001b[0m\u001b[0;34m\u001b[0m\u001b[0m\n\u001b[0;32m---> 17\u001b[0;31m \u001b[0mmodel\u001b[0m\u001b[0;34m.\u001b[0m\u001b[0mfit\u001b[0m\u001b[0;34m(\u001b[0m\u001b[0mtrain_features\u001b[0m\u001b[0;34m,\u001b[0m \u001b[0mtrain_target\u001b[0m\u001b[0;34m,\u001b[0m \u001b[0mepochs\u001b[0m\u001b[0;34m=\u001b[0m\u001b[0;36m10\u001b[0m\u001b[0;34m,\u001b[0m \u001b[0mbatch_size\u001b[0m\u001b[0;34m=\u001b[0m\u001b[0;36m32\u001b[0m\u001b[0;34m)\u001b[0m\u001b[0;34m\u001b[0m\u001b[0;34m\u001b[0m\u001b[0m\n\u001b[0m\u001b[1;32m     18\u001b[0m \u001b[0;34m\u001b[0m\u001b[0m\n\u001b[1;32m     19\u001b[0m \u001b[0;31m# Evaluate the model\u001b[0m\u001b[0;34m\u001b[0m\u001b[0;34m\u001b[0m\u001b[0m\n",
            "\u001b[0;32m/usr/local/lib/python3.10/dist-packages/keras/src/utils/traceback_utils.py\u001b[0m in \u001b[0;36merror_handler\u001b[0;34m(*args, **kwargs)\u001b[0m\n\u001b[1;32m     68\u001b[0m             \u001b[0;31m# To get the full stack trace, call:\u001b[0m\u001b[0;34m\u001b[0m\u001b[0;34m\u001b[0m\u001b[0m\n\u001b[1;32m     69\u001b[0m             \u001b[0;31m# `tf.debugging.disable_traceback_filtering()`\u001b[0m\u001b[0;34m\u001b[0m\u001b[0;34m\u001b[0m\u001b[0m\n\u001b[0;32m---> 70\u001b[0;31m             \u001b[0;32mraise\u001b[0m \u001b[0me\u001b[0m\u001b[0;34m.\u001b[0m\u001b[0mwith_traceback\u001b[0m\u001b[0;34m(\u001b[0m\u001b[0mfiltered_tb\u001b[0m\u001b[0;34m)\u001b[0m \u001b[0;32mfrom\u001b[0m \u001b[0;32mNone\u001b[0m\u001b[0;34m\u001b[0m\u001b[0;34m\u001b[0m\u001b[0m\n\u001b[0m\u001b[1;32m     71\u001b[0m         \u001b[0;32mfinally\u001b[0m\u001b[0;34m:\u001b[0m\u001b[0;34m\u001b[0m\u001b[0;34m\u001b[0m\u001b[0m\n\u001b[1;32m     72\u001b[0m             \u001b[0;32mdel\u001b[0m \u001b[0mfiltered_tb\u001b[0m\u001b[0;34m\u001b[0m\u001b[0;34m\u001b[0m\u001b[0m\n",
            "\u001b[0;32m/usr/local/lib/python3.10/dist-packages/keras/src/engine/data_adapter.py\u001b[0m in \u001b[0;36mselect_data_adapter\u001b[0;34m(x, y)\u001b[0m\n\u001b[1;32m   1103\u001b[0m     \u001b[0;32mif\u001b[0m \u001b[0;32mnot\u001b[0m \u001b[0madapter_cls\u001b[0m\u001b[0;34m:\u001b[0m\u001b[0;34m\u001b[0m\u001b[0;34m\u001b[0m\u001b[0m\n\u001b[1;32m   1104\u001b[0m         \u001b[0;31m# TODO(scottzhu): This should be a less implementation-specific error.\u001b[0m\u001b[0;34m\u001b[0m\u001b[0;34m\u001b[0m\u001b[0m\n\u001b[0;32m-> 1105\u001b[0;31m         raise ValueError(\n\u001b[0m\u001b[1;32m   1106\u001b[0m             \"Failed to find data adapter that can handle input: {}, {}\".format(\n\u001b[1;32m   1107\u001b[0m                 \u001b[0m_type_name\u001b[0m\u001b[0;34m(\u001b[0m\u001b[0mx\u001b[0m\u001b[0;34m)\u001b[0m\u001b[0;34m,\u001b[0m \u001b[0m_type_name\u001b[0m\u001b[0;34m(\u001b[0m\u001b[0my\u001b[0m\u001b[0;34m)\u001b[0m\u001b[0;34m\u001b[0m\u001b[0;34m\u001b[0m\u001b[0m\n",
            "\u001b[0;31mValueError\u001b[0m: Failed to find data adapter that can handle input: <class 'numpy.ndarray'>, (<class 'list'> containing values of types {\"<class 'int'>\"})"
          ]
        }
      ]
    },
    {
      "cell_type": "code",
      "source": [
        "# Build the LSTM model\n",
        "model = Sequential()\n",
        "#model.add(LSTM(128, input_shape=(1, len(rossman_features))))\n",
        "model.add(LSTM(128, input_shape=(1, len(rossman_features[0]))))\n",
        "model.add(Dense(1))\n",
        "\n",
        "# Compile the model\n",
        "model.compile(loss='mse', optimizer='adam')\n",
        "\n",
        "# Train the model\n",
        "model.fit(train_features, train_target, epochs=10, batch_size=32)\n",
        "\n",
        "# Evaluate the model\n",
        "loss = model.evaluate(test_features, test_target)\n",
        "print('Test loss:', loss)\n",
        "\n",
        "# Make predictions\n",
        "predictions = model.predict(test_features)"
      ],
      "metadata": {
        "id": "5hd-V0CtiOwJ"
      },
      "execution_count": null,
      "outputs": []
    },
    {
      "cell_type": "code",
      "source": [
        "import pandas as pd\n",
        "import numpy as np\n",
        "from sklearn.model_selection import train_test_split\n",
        "from sklearn.preprocessing import StandardScaler\n",
        "from tensorflow.keras.models import Sequential\n",
        "from tensorflow.keras.layers import LSTM, Dense\n",
        "import matplotlib.pyplot as plt\n",
        "\n",
        "data1 = pd.read_csv(\"/content/train.csv\")\n",
        "data2 = pd.read_csv(\"/content/train_preprocessed.csv\", compression='gzip')\n",
        "data_sales = data1['Sales']\n",
        "\n",
        "rossman_processed_data = pd.concat([data2, data_sales], axis=1)\n",
        "rossman_features = rossman_processed_data.iloc[:, :-1].values\n",
        "rossman_target = rossman_processed_data.iloc[:, -1].values\n",
        "\n",
        "# Split the data into training and testing sets\n",
        "X_train, X_test, y_train, y_test = train_test_split(rossman_features, rossman_target, test_size=0.2, random_state=42)\n",
        "\n",
        "# Standardize the features\n",
        "scaler = StandardScaler()\n",
        "X_train = scaler.fit_transform(X_train)\n",
        "X_test = scaler.transform(X_test)\n",
        "\n",
        "# Reshape the data for LSTM input [samples, time steps, features]\n",
        "X_train = X_train.reshape((-1, 1, X_train.shape[1]))\n",
        "X_test = X_test.reshape((-1, 1, X_test.shape[1]))\n",
        "\n",
        "# Build the LSTM model\n",
        "model = Sequential()\n",
        "model.add(LSTM(128, input_shape=(1, X_train.shape[2])))\n",
        "model.add(Dense(1))\n",
        "\n",
        "# Compile the model\n",
        "model.compile(loss='mse', optimizer='adam')\n",
        "\n",
        "# Train the model\n",
        "model.fit(X_train, y_train, epochs=10, batch_size=32)\n",
        "\n",
        "# Evaluate the model\n",
        "loss = model.evaluate(X_test, y_test)\n",
        "print('Test loss:', loss)\n",
        "\n",
        "# Make predictions\n",
        "predictions = model.predict(X_test)\n",
        "#predictions = model.predict(test_features)\n",
        "plt.plot(y_test, label='Actual')\n",
        "plt.plot(predictions, label='Predicted')\n",
        "plt.xlabel('Data Point')\n",
        "plt.ylabel('Sales')\n",
        "plt.title('Actual vs. Predicted Sales')\n",
        "plt.legend()\n",
        "plt.show()\n",
        "\n",
        "\n",
        "\n",
        "# Get the loss history from the training process\n",
        "loss_history = model.history.history['loss']\n",
        "\n",
        "# Plot the loss values\n",
        "plt.plot(loss_history)\n",
        "plt.xlabel('Epoch')\n",
        "plt.ylabel('Loss')\n",
        "plt.title('Training Loss')\n",
        "plt.show()"
      ],
      "metadata": {
        "colab": {
          "base_uri": "https://localhost:8080/"
        },
        "id": "_Awxk6Aomqx2",
        "outputId": "42ddf406-b2b2-434e-b1ca-311f1f2b2155"
      },
      "execution_count": null,
      "outputs": [
        {
          "output_type": "stream",
          "name": "stderr",
          "text": [
            "<ipython-input-1-3ffc7789d13f>:8: DtypeWarning: Columns (7) have mixed types. Specify dtype option on import or set low_memory=False.\n",
            "  data1 = pd.read_csv(\"/content/train.csv\")\n"
          ]
        },
        {
          "output_type": "stream",
          "name": "stdout",
          "text": [
            "Epoch 1/10\n",
            "25431/25431 [==============================] - 87s 3ms/step - loss: 38128820.0000\n",
            "Epoch 2/10\n",
            "25431/25431 [==============================] - 84s 3ms/step - loss: 23829840.0000\n",
            "Epoch 3/10\n",
            "25431/25431 [==============================] - 84s 3ms/step - loss: 16282188.0000\n",
            "Epoch 4/10\n",
            "25431/25431 [==============================] - 84s 3ms/step - loss: 13416026.0000\n",
            "Epoch 5/10\n",
            "25431/25431 [==============================] - 84s 3ms/step - loss: 12210977.0000\n",
            "Epoch 6/10\n",
            "25431/25431 [==============================] - 84s 3ms/step - loss: 11469852.0000\n",
            "Epoch 7/10\n",
            "25431/25431 [==============================] - 85s 3ms/step - loss: 10970578.0000\n",
            "Epoch 8/10\n",
            "25431/25431 [==============================] - 84s 3ms/step - loss: 10606287.0000\n",
            "Epoch 9/10\n",
            "25431/25431 [==============================] - 84s 3ms/step - loss: 10342871.0000\n",
            "Epoch 10/10\n",
            "25431/25431 [==============================] - 84s 3ms/step - loss: 10128881.0000\n",
            "6358/6358 [==============================] - 11s 2ms/step - loss: 10015414.0000\n",
            "Test loss: 10015414.0\n",
            "6358/6358 [==============================] - 11s 2ms/step\n"
          ]
        }
      ]
    },
    {
      "cell_type": "code",
      "source": [
        "import pandas as pd\n",
        "import numpy as np\n",
        "from sklearn.preprocessing import MinMaxScaler\n",
        "from sklearn.model_selection import train_test_split\n",
        "from sklearn.preprocessing import StandardScaler\n",
        "from tensorflow.keras.models import Sequential\n",
        "from tensorflow.keras.layers import LSTM, Dense\n",
        "import matplotlib.pyplot as plt\n",
        "\n",
        "# Load the data\n",
        "data1 = pd.read_csv(\"/content/train.csv\")\n",
        "data2 = pd.read_csv(\"/content/train_preprocessed.csv\", compression='gzip')\n",
        "data_sales = data1['Sales']\n",
        "\n",
        "# Concatenate the data\n",
        "rossman_processed_data = pd.concat([data2, data_sales], axis=1)\n",
        "rossman_features = rossman_processed_data.iloc[:, :-1].values\n",
        "rossman_target1 = rossman_processed_data.iloc[:, -1].values\n",
        "\n",
        "#Normalizing the target variable\n",
        "scaler=MinMaxScaler(feature_range=(0,1))\n",
        "rossman_target=scaler.fit_transform(rossman_target1.reshape(-1,1))\n",
        "\n",
        "# Split the data into training and testing sets\n",
        "X_train, X_test, y_train, y_test = train_test_split(rossman_features, rossman_target, test_size=0.2, random_state=42)\n",
        "\n",
        "# Standardize the features\n",
        "# scaler = StandardScaler()\n",
        "# X_train = scaler.fit_transform(X_train)\n",
        "# X_test = scaler.transform(X_test)\n",
        "\n",
        "# Reshape the data for LSTM input [samples, time steps, features]\n",
        "X_train = X_train.reshape((-1, 1, X_train.shape[1]))\n",
        "X_test = X_test.reshape((-1, 1, X_test.shape[1]))\n",
        "\n",
        "# Build the LSTM model\n",
        "model = Sequential()\n",
        "model.add(LSTM(128, input_shape=(1, X_train.shape[2])))\n",
        "model.add(Dense(1))\n",
        "\n",
        "# Compile the model\n",
        "model.compile(loss='mse', optimizer='adam')\n",
        "\n",
        "# Train the model\n",
        "history = model.fit(X_train, y_train, epochs=10, batch_size=32, verbose=1)\n",
        "\n",
        "# Evaluate the model\n",
        "loss = model.evaluate(X_test, y_test)\n",
        "print('Test loss:', loss)\n",
        "\n",
        "# Make predictions\n",
        "predictions = model.predict(X_test)\n",
        "\n",
        "# Plot actual vs. predicted sales\n",
        "plt.plot(y_test, label='Actual')\n",
        "plt.plot(predictions, label='Predicted')\n",
        "plt.xlabel('Data Point')\n",
        "plt.ylabel('Sales')\n",
        "plt.title('Actual vs. Predicted Sales')\n",
        "plt.legend()\n",
        "plt.show()\n",
        "\n",
        "# Plot the loss values\n",
        "loss_history = history.history['loss']\n",
        "plt.plot(loss_history)\n",
        "plt.xlabel('Epoch')\n",
        "plt.ylabel('Loss')\n",
        "plt.title('Training Loss')\n",
        "plt.show()"
      ],
      "metadata": {
        "colab": {
          "base_uri": "https://localhost:8080/",
          "height": 1000
        },
        "id": "D4XPjaC0tof0",
        "outputId": "c25017c2-3ee0-4392-f3bd-a6b44c9e5ecc"
      },
      "execution_count": 8,
      "outputs": [
        {
          "metadata": {
            "tags": null
          },
          "name": "stderr",
          "output_type": "stream",
          "text": [
            "<ipython-input-8-8843d39473a0>:11: DtypeWarning: Columns (7) have mixed types. Specify dtype option on import or set low_memory=False.\n",
            "  data1 = pd.read_csv(\"/content/train.csv\")\n"
          ]
        },
        {
          "output_type": "stream",
          "name": "stdout",
          "text": [
            "Epoch 1/10\n",
            "25431/25431 [==============================] - 142s 5ms/step - loss: 0.0062\n",
            "Epoch 2/10\n",
            "25431/25431 [==============================] - 136s 5ms/step - loss: 0.0048\n",
            "Epoch 3/10\n",
            "25431/25431 [==============================] - 136s 5ms/step - loss: 0.0045\n",
            "Epoch 4/10\n",
            "25431/25431 [==============================] - 135s 5ms/step - loss: 0.0043\n",
            "Epoch 5/10\n",
            "25431/25431 [==============================] - 139s 5ms/step - loss: 0.0043\n",
            "Epoch 6/10\n",
            "25431/25431 [==============================] - 137s 5ms/step - loss: 0.0042\n",
            "Epoch 7/10\n",
            "25431/25431 [==============================] - 136s 5ms/step - loss: 0.0042\n",
            "Epoch 8/10\n",
            "25431/25431 [==============================] - 136s 5ms/step - loss: 0.0041\n",
            "Epoch 9/10\n",
            "25431/25431 [==============================] - 137s 5ms/step - loss: 0.0041\n",
            "Epoch 10/10\n",
            "25431/25431 [==============================] - 129s 5ms/step - loss: 0.0041\n",
            "6358/6358 [==============================] - 16s 2ms/step - loss: 0.0042\n",
            "Test loss: 0.004161252174526453\n",
            "6358/6358 [==============================] - 15s 2ms/step\n"
          ]
        },
        {
          "output_type": "display_data",
          "data": {
            "text/plain": [
              "<Figure size 640x480 with 1 Axes>"
            ],
            "image/png": "[encoded data removed]"
          },
          "metadata": {}
        },
        {
          "output_type": "display_data",
          "data": {
            "text/plain": [
              "<Figure size 640x480 with 1 Axes>"
            ],
            "image/png": "[encoded data removed]"
          },
          "metadata": {}
        }
      ]
    }
  ]
}